{
 "cells": [
  {
   "cell_type": "markdown",
   "id": "721f7fd9",
   "metadata": {
    "papermill": {
     "duration": 0.013465,
     "end_time": "2022-05-09T00:56:05.928122",
     "exception": false,
     "start_time": "2022-05-09T00:56:05.914657",
     "status": "completed"
    },
    "tags": []
   },
   "source": [
    "**This notebook is an exercise in the [Introduction to Machine Learning](https://www.kaggle.com/learn/intro-to-machine-learning) course.  You can reference the tutorial at [this link](https://www.kaggle.com/dansbecker/underfitting-and-overfitting).**\n",
    "\n",
    "---\n"
   ]
  },
  {
   "cell_type": "markdown",
   "id": "6d27bf64",
   "metadata": {
    "papermill": {
     "duration": 0.010895,
     "end_time": "2022-05-09T00:56:05.950587",
     "exception": false,
     "start_time": "2022-05-09T00:56:05.939692",
     "status": "completed"
    },
    "tags": []
   },
   "source": [
    "## Recap\n",
    "You've built your first model, and now it's time to optimize the size of the tree to make better predictions. Run this cell to set up your coding environment where the previous step left off."
   ]
  },
  {
   "cell_type": "code",
   "execution_count": 1,
   "id": "455ec856",
   "metadata": {
    "execution": {
     "iopub.execute_input": "2022-05-09T00:56:05.975686Z",
     "iopub.status.busy": "2022-05-09T00:56:05.974913Z",
     "iopub.status.idle": "2022-05-09T00:56:07.389002Z",
     "shell.execute_reply": "2022-05-09T00:56:07.387398Z"
    },
    "papermill": {
     "duration": 1.431257,
     "end_time": "2022-05-09T00:56:07.393005",
     "exception": false,
     "start_time": "2022-05-09T00:56:05.961748",
     "status": "completed"
    },
    "tags": []
   },
   "outputs": [
    {
     "name": "stdout",
     "output_type": "stream",
     "text": [
      "Validation MAE: 29,653\n",
      "\n",
      "Setup complete\n"
     ]
    }
   ],
   "source": [
    "# Code you have previously used to load data\n",
    "import pandas as pd\n",
    "from sklearn.metrics import mean_absolute_error\n",
    "from sklearn.model_selection import train_test_split\n",
    "from sklearn.tree import DecisionTreeRegressor\n",
    "\n",
    "\n",
    "# Path of the file to read\n",
    "iowa_file_path = '../input/home-data-for-ml-course/train.csv'\n",
    "\n",
    "home_data = pd.read_csv(iowa_file_path)\n",
    "# Create target object and call it y\n",
    "y = home_data.SalePrice\n",
    "# Create X\n",
    "features = ['LotArea', 'YearBuilt', '1stFlrSF', '2ndFlrSF', 'FullBath', 'BedroomAbvGr', 'TotRmsAbvGrd']\n",
    "X = home_data[features]\n",
    "\n",
    "# Split into validation and training data\n",
    "train_X, val_X, train_y, val_y = train_test_split(X, y, random_state=1)\n",
    "\n",
    "# Specify Model\n",
    "iowa_model = DecisionTreeRegressor(random_state=1)\n",
    "# Fit Model\n",
    "iowa_model.fit(train_X, train_y)\n",
    "\n",
    "# Make validation predictions and calculate mean absolute error\n",
    "val_predictions = iowa_model.predict(val_X)\n",
    "val_mae = mean_absolute_error(val_predictions, val_y)\n",
    "print(\"Validation MAE: {:,.0f}\".format(val_mae))\n",
    "\n",
    "# Set up code checking\n",
    "from learntools.core import binder\n",
    "binder.bind(globals())\n",
    "from learntools.machine_learning.ex5 import *\n",
    "print(\"\\nSetup complete\")"
   ]
  },
  {
   "cell_type": "markdown",
   "id": "5d8ddf9b",
   "metadata": {
    "papermill": {
     "duration": 0.011702,
     "end_time": "2022-05-09T00:56:07.417676",
     "exception": false,
     "start_time": "2022-05-09T00:56:07.405974",
     "status": "completed"
    },
    "tags": []
   },
   "source": [
    "# Exercises\n",
    "You could write the function `get_mae` yourself. For now, we'll supply it. This is the same function you read about in the previous lesson. Just run the cell below."
   ]
  },
  {
   "cell_type": "code",
   "execution_count": 2,
   "id": "57fc6888",
   "metadata": {
    "execution": {
     "iopub.execute_input": "2022-05-09T00:56:07.443675Z",
     "iopub.status.busy": "2022-05-09T00:56:07.443368Z",
     "iopub.status.idle": "2022-05-09T00:56:07.449336Z",
     "shell.execute_reply": "2022-05-09T00:56:07.448647Z"
    },
    "papermill": {
     "duration": 0.021329,
     "end_time": "2022-05-09T00:56:07.451215",
     "exception": false,
     "start_time": "2022-05-09T00:56:07.429886",
     "status": "completed"
    },
    "tags": []
   },
   "outputs": [],
   "source": [
    "def get_mae(max_leaf_nodes, train_X, val_X, train_y, val_y):\n",
    "    model = DecisionTreeRegressor(max_leaf_nodes=max_leaf_nodes, random_state=0)\n",
    "    model.fit(train_X, train_y)\n",
    "    preds_val = model.predict(val_X)\n",
    "    mae = mean_absolute_error(val_y, preds_val)\n",
    "    return(mae)"
   ]
  },
  {
   "cell_type": "markdown",
   "id": "f56dcfd3",
   "metadata": {
    "papermill": {
     "duration": 0.011567,
     "end_time": "2022-05-09T00:56:07.474818",
     "exception": false,
     "start_time": "2022-05-09T00:56:07.463251",
     "status": "completed"
    },
    "tags": []
   },
   "source": [
    "## Step 1: Compare Different Tree Sizes\n",
    "Write a loop that tries the following values for *max_leaf_nodes* from a set of possible values.\n",
    "\n",
    "Call the *get_mae* function on each value of max_leaf_nodes. Store the output in some way that allows you to select the value of `max_leaf_nodes` that gives the most accurate model on your data."
   ]
  },
  {
   "cell_type": "code",
   "execution_count": 3,
   "id": "762248cb",
   "metadata": {
    "execution": {
     "iopub.execute_input": "2022-05-09T00:56:07.500502Z",
     "iopub.status.busy": "2022-05-09T00:56:07.500201Z",
     "iopub.status.idle": "2022-05-09T00:56:07.549134Z",
     "shell.execute_reply": "2022-05-09T00:56:07.548306Z"
    },
    "papermill": {
     "duration": 0.064837,
     "end_time": "2022-05-09T00:56:07.551630",
     "exception": false,
     "start_time": "2022-05-09T00:56:07.486793",
     "status": "completed"
    },
    "tags": []
   },
   "outputs": [
    {
     "name": "stdout",
     "output_type": "stream",
     "text": [
      "100\n"
     ]
    },
    {
     "data": {
      "application/javascript": [
       "parent.postMessage({\"jupyterEvent\": \"custom.exercise_interaction\", \"data\": {\"outcomeType\": 1, \"valueTowardsCompletion\": 0.5, \"interactionType\": 1, \"questionType\": 1, \"questionId\": \"1_BestTreeSize\", \"learnToolsVersion\": \"0.3.4\", \"failureMessage\": \"\", \"exceptionClass\": \"\", \"trace\": \"\"}}, \"*\")"
      ],
      "text/plain": [
       "<IPython.core.display.Javascript object>"
      ]
     },
     "metadata": {},
     "output_type": "display_data"
    },
    {
     "data": {
      "text/markdown": [
       "<span style=\"color:#33cc33\">Correct</span>"
      ],
      "text/plain": [
       "Correct"
      ]
     },
     "metadata": {},
     "output_type": "display_data"
    }
   ],
   "source": [
    "candidate_max_leaf_nodes = [5, 25, 50, 100, 250, 500]\n",
    "mae=[]\n",
    "# Write loop to find the ideal tree size from candidate_max_leaf_nodes\n",
    "for maxnum in candidate_max_leaf_nodes:\n",
    "    mae.append (get_mae(maxnum, train_X, val_X, train_y, val_y))\n",
    "# Store the best value of max_leaf_nodes (it will be either 5, 25, 50, 100, 250 or 500)\n",
    "best_tree_size =candidate_max_leaf_nodes[mae.index(min(mae))]\n",
    "print (best_tree_size)\n",
    "# Check your answer\n",
    "step_1.check()"
   ]
  },
  {
   "cell_type": "code",
   "execution_count": 4,
   "id": "086a691b",
   "metadata": {
    "execution": {
     "iopub.execute_input": "2022-05-09T00:56:07.580423Z",
     "iopub.status.busy": "2022-05-09T00:56:07.579873Z",
     "iopub.status.idle": "2022-05-09T00:56:07.583422Z",
     "shell.execute_reply": "2022-05-09T00:56:07.582682Z"
    },
    "papermill": {
     "duration": 0.020179,
     "end_time": "2022-05-09T00:56:07.585247",
     "exception": false,
     "start_time": "2022-05-09T00:56:07.565068",
     "status": "completed"
    },
    "tags": []
   },
   "outputs": [],
   "source": [
    "# The lines below will show you a hint or the solution.\n",
    "# step_1.hint() \n",
    "# step_1.solution()"
   ]
  },
  {
   "cell_type": "markdown",
   "id": "ca40495a",
   "metadata": {
    "papermill": {
     "duration": 0.014284,
     "end_time": "2022-05-09T00:56:07.613082",
     "exception": false,
     "start_time": "2022-05-09T00:56:07.598798",
     "status": "completed"
    },
    "tags": []
   },
   "source": [
    "## Step 2: Fit Model Using All Data\n",
    "You know the best tree size. If you were going to deploy this model in practice, you would make it even more accurate by using all of the data and keeping that tree size.  That is, you don't need to hold out the validation data now that you've made all your modeling decisions."
   ]
  },
  {
   "cell_type": "code",
   "execution_count": 5,
   "id": "5c6cc1d4",
   "metadata": {
    "execution": {
     "iopub.execute_input": "2022-05-09T00:56:07.642550Z",
     "iopub.status.busy": "2022-05-09T00:56:07.641853Z",
     "iopub.status.idle": "2022-05-09T00:56:07.659677Z",
     "shell.execute_reply": "2022-05-09T00:56:07.658950Z"
    },
    "papermill": {
     "duration": 0.034731,
     "end_time": "2022-05-09T00:56:07.661636",
     "exception": false,
     "start_time": "2022-05-09T00:56:07.626905",
     "status": "completed"
    },
    "tags": []
   },
   "outputs": [
    {
     "data": {
      "application/javascript": [
       "parent.postMessage({\"jupyterEvent\": \"custom.exercise_interaction\", \"data\": {\"outcomeType\": 1, \"valueTowardsCompletion\": 0.5, \"interactionType\": 1, \"questionType\": 2, \"questionId\": \"2_FitModelWithAllData\", \"learnToolsVersion\": \"0.3.4\", \"failureMessage\": \"\", \"exceptionClass\": \"\", \"trace\": \"\"}}, \"*\")"
      ],
      "text/plain": [
       "<IPython.core.display.Javascript object>"
      ]
     },
     "metadata": {},
     "output_type": "display_data"
    },
    {
     "data": {
      "text/markdown": [
       "<span style=\"color:#33cc33\">Correct</span>"
      ],
      "text/plain": [
       "Correct"
      ]
     },
     "metadata": {},
     "output_type": "display_data"
    }
   ],
   "source": [
    "# Fill in argument to make optimal size and uncomment\n",
    "final_model = DecisionTreeRegressor(max_leaf_nodes=best_tree_size,random_state=0)\n",
    "\n",
    "# fit the final model and uncomment the next two lines\n",
    "final_model.fit(X,y)\n",
    "\n",
    "# Check your answer\n",
    "step_2.check()"
   ]
  },
  {
   "cell_type": "code",
   "execution_count": 6,
   "id": "0b305aad",
   "metadata": {
    "execution": {
     "iopub.execute_input": "2022-05-09T00:56:07.693070Z",
     "iopub.status.busy": "2022-05-09T00:56:07.692476Z",
     "iopub.status.idle": "2022-05-09T00:56:07.695755Z",
     "shell.execute_reply": "2022-05-09T00:56:07.695123Z"
    },
    "papermill": {
     "duration": 0.021421,
     "end_time": "2022-05-09T00:56:07.697634",
     "exception": false,
     "start_time": "2022-05-09T00:56:07.676213",
     "status": "completed"
    },
    "tags": []
   },
   "outputs": [],
   "source": [
    "# step_2.hint()\n",
    "# step_2.solution()"
   ]
  },
  {
   "cell_type": "markdown",
   "id": "df3e3486",
   "metadata": {
    "papermill": {
     "duration": 0.014518,
     "end_time": "2022-05-09T00:56:07.727098",
     "exception": false,
     "start_time": "2022-05-09T00:56:07.712580",
     "status": "completed"
    },
    "tags": []
   },
   "source": [
    "You've tuned this model and improved your results. But we are still using Decision Tree models, which are not very sophisticated by modern machine learning standards. In the next step you will learn to use Random Forests to improve your models even more.\n",
    "\n",
    "# Keep Going\n",
    "\n",
    "You are ready for **[Random Forests](https://www.kaggle.com/dansbecker/random-forests).**\n"
   ]
  },
  {
   "cell_type": "markdown",
   "id": "b3df7f8a",
   "metadata": {
    "papermill": {
     "duration": 0.014902,
     "end_time": "2022-05-09T00:56:07.758114",
     "exception": false,
     "start_time": "2022-05-09T00:56:07.743212",
     "status": "completed"
    },
    "tags": []
   },
   "source": [
    "---\n",
    "\n",
    "\n",
    "\n",
    "\n",
    "*Have questions or comments? Visit the [course discussion forum](https://www.kaggle.com/learn/intro-to-machine-learning/discussion) to chat with other learners.*"
   ]
  }
 ],
 "metadata": {
  "kernelspec": {
   "display_name": "Python 3",
   "language": "python",
   "name": "python3"
  },
  "language_info": {
   "codemirror_mode": {
    "name": "ipython",
    "version": 3
   },
   "file_extension": ".py",
   "mimetype": "text/x-python",
   "name": "python",
   "nbconvert_exporter": "python",
   "pygments_lexer": "ipython3",
   "version": "3.7.12"
  },
  "papermill": {
   "default_parameters": {},
   "duration": 12.840671,
   "end_time": "2022-05-09T00:56:08.494621",
   "environment_variables": {},
   "exception": null,
   "input_path": "__notebook__.ipynb",
   "output_path": "__notebook__.ipynb",
   "parameters": {},
   "start_time": "2022-05-09T00:55:55.653950",
   "version": "2.3.4"
  }
 },
 "nbformat": 4,
 "nbformat_minor": 5
}
